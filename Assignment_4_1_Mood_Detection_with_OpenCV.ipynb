{
 "cells": [
  {
   "cell_type": "markdown",
   "id": "5c119566",
   "metadata": {},
   "source": [
    "Technological Institute of the Philippines | Quezon City - Computer Engineering\n",
    "--- | ---\n",
    "Course Code: | CPE 313\n",
    "Course Title: | Advanced Machine Learning and Deep Learning\n",
    "2nd Semester | AY 2024-2025\n",
    "<u>**ACTIVITY NO.** | Assignment 4.1 Mood Detection with OpenCV\n",
    "**Name** | Base, Angelo P.\n",
    "**Section** | CPE32S1\n",
    "**Date Performed**: | 06/04/2025\n",
    "**Date Submitted**: | 13/04/2025\n",
    "**Instructor**: | Dr. Alonica Villanueva\n",
    "<hr>"
   ]
  },
  {
   "cell_type": "code",
   "execution_count": 2,
   "id": "73ecdc24",
   "metadata": {},
   "outputs": [],
   "source": [
    "import os\n",
    "import cv2\n",
    "import numpy as np\n",
    "\n",
    "import pickle\n",
    "from tqdm import tqdm\n",
    "\n",
    "from tensorflow.keras.preprocessing.image import ImageDataGenerator, img_to_array\n",
    "from tensorflow.keras.applications import VGG16\n",
    "from tensorflow.keras.models import Sequential, load_model\n",
    "from tensorflow.keras.layers import Flatten, Dense, Dropout\n",
    "from tensorflow.keras.optimizers import Adam\n",
    "\n",
    "from sklearn.svm import SVC\n",
    "from sklearn.model_selection import train_test_split\n",
    "from sklearn.metrics import accuracy_score, confusion_matrix\n",
    "\n",
    "import itertools\n",
    "\n",
    "from deepface import DeepFace\n",
    "import matplotlib.pyplot as plt\n",
    "# from google.colab.patches import cv2_imshow"
   ]
  },
  {
   "cell_type": "markdown",
   "id": "4ac669aa",
   "metadata": {},
   "source": [
    "### Face Recognition"
   ]
  },
  {
   "cell_type": "code",
   "execution_count": null,
   "id": "b23cebe6",
   "metadata": {},
   "outputs": [
    {
     "name": "stdout",
     "output_type": "stream",
     "text": [
      "Skipping image: custom_facial_expression_dataset/train\\angry\\Training_10.jpg\n",
      "Skipping image: custom_facial_expression_dataset/train\\angry\\Training_110.jpg\n",
      "Skipping image: custom_facial_expression_dataset/train\\angry\\Training_116.jpg\n",
      "Skipping image: custom_facial_expression_dataset/train\\angry\\Training_117.jpg\n",
      "Skipping image: custom_facial_expression_dataset/train\\angry\\Training_119.jpg\n",
      "Skipping image: custom_facial_expression_dataset/train\\angry\\Training_12.jpg\n",
      "Skipping image: custom_facial_expression_dataset/train\\angry\\Training_120.jpg\n",
      "Skipping image: custom_facial_expression_dataset/train\\angry\\Training_121.jpg\n",
      "Skipping image: custom_facial_expression_dataset/train\\angry\\Training_137.jpg\n",
      "Skipping image: custom_facial_expression_dataset/train\\angry\\Training_14.jpg\n",
      "Skipping image: custom_facial_expression_dataset/train\\angry\\Training_142.jpg\n",
      "Skipping image: custom_facial_expression_dataset/train\\angry\\Training_157.jpg\n",
      "Skipping image: custom_facial_expression_dataset/train\\angry\\Training_168.jpg\n",
      "Skipping image: custom_facial_expression_dataset/train\\angry\\Training_171.jpg\n",
      "Skipping image: custom_facial_expression_dataset/train\\angry\\Training_187.jpg\n",
      "Skipping image: custom_facial_expression_dataset/train\\angry\\Training_189.jpg\n",
      "Skipping image: custom_facial_expression_dataset/train\\angry\\Training_194.jpg\n",
      "Skipping image: custom_facial_expression_dataset/train\\angry\\Training_195.jpg\n",
      "Skipping image: custom_facial_expression_dataset/train\\angry\\Training_197.jpg\n",
      "Skipping image: custom_facial_expression_dataset/train\\angry\\Training_198.jpg\n",
      "Skipping image: custom_facial_expression_dataset/train\\angry\\Training_200.jpg\n",
      "Skipping image: custom_facial_expression_dataset/train\\angry\\Training_28.jpg\n",
      "Skipping image: custom_facial_expression_dataset/train\\angry\\Training_3.jpg\n",
      "Skipping image: custom_facial_expression_dataset/train\\angry\\Training_38.jpg\n",
      "Skipping image: custom_facial_expression_dataset/train\\angry\\Training_4.jpg\n",
      "Skipping image: custom_facial_expression_dataset/train\\angry\\Training_5.jpg\n",
      "Skipping image: custom_facial_expression_dataset/train\\angry\\Training_53.jpg\n",
      "Skipping image: custom_facial_expression_dataset/train\\angry\\Training_6.jpg\n",
      "Skipping image: custom_facial_expression_dataset/train\\angry\\Training_62.jpg\n",
      "Skipping image: custom_facial_expression_dataset/train\\angry\\Training_65.jpg\n",
      "Skipping image: custom_facial_expression_dataset/train\\angry\\Training_7.jpg\n",
      "Skipping image: custom_facial_expression_dataset/train\\angry\\Training_73.jpg\n",
      "Skipping image: custom_facial_expression_dataset/train\\angry\\Training_8.jpg\n",
      "Skipping image: custom_facial_expression_dataset/train\\angry\\Training_82.jpg\n",
      "Skipping image: custom_facial_expression_dataset/train\\angry\\Training_89.jpg\n",
      "Skipping image: custom_facial_expression_dataset/train\\happy\\Training_100.jpg\n",
      "Skipping image: custom_facial_expression_dataset/train\\happy\\Training_101.jpg\n",
      "Skipping image: custom_facial_expression_dataset/train\\happy\\Training_102.jpg\n",
      "Skipping image: custom_facial_expression_dataset/train\\happy\\Training_103.jpg\n",
      "Skipping image: custom_facial_expression_dataset/train\\happy\\Training_114.jpg\n",
      "Skipping image: custom_facial_expression_dataset/train\\happy\\Training_125.jpg\n",
      "Skipping image: custom_facial_expression_dataset/train\\happy\\Training_129.jpg\n",
      "Skipping image: custom_facial_expression_dataset/train\\happy\\Training_147.jpg\n",
      "Skipping image: custom_facial_expression_dataset/train\\happy\\Training_149.jpg\n",
      "Skipping image: custom_facial_expression_dataset/train\\happy\\Training_150.jpg\n",
      "Skipping image: custom_facial_expression_dataset/train\\happy\\Training_151.jpg\n",
      "Skipping image: custom_facial_expression_dataset/train\\happy\\Training_152.jpg\n",
      "Skipping image: custom_facial_expression_dataset/train\\happy\\Training_153.jpg\n",
      "Skipping image: custom_facial_expression_dataset/train\\happy\\Training_156.jpg\n",
      "Skipping image: custom_facial_expression_dataset/train\\happy\\Training_157.jpg\n",
      "Skipping image: custom_facial_expression_dataset/train\\happy\\Training_160.jpg\n",
      "Skipping image: custom_facial_expression_dataset/train\\happy\\Training_162.jpg\n",
      "Skipping image: custom_facial_expression_dataset/train\\happy\\Training_163.jpg\n",
      "Skipping image: custom_facial_expression_dataset/train\\happy\\Training_164.jpg\n",
      "Skipping image: custom_facial_expression_dataset/train\\happy\\Training_165.jpg\n",
      "Skipping image: custom_facial_expression_dataset/train\\happy\\Training_169.jpg\n",
      "Skipping image: custom_facial_expression_dataset/train\\happy\\Training_17.jpg\n",
      "Skipping image: custom_facial_expression_dataset/train\\happy\\Training_170.jpg\n",
      "Skipping image: custom_facial_expression_dataset/train\\happy\\Training_171.jpg\n",
      "Skipping image: custom_facial_expression_dataset/train\\happy\\Training_179.jpg\n",
      "Skipping image: custom_facial_expression_dataset/train\\happy\\Training_198.jpg\n",
      "Skipping image: custom_facial_expression_dataset/train\\happy\\Training_2.jpg\n",
      "Skipping image: custom_facial_expression_dataset/train\\happy\\Training_23.jpg\n",
      "Skipping image: custom_facial_expression_dataset/train\\happy\\Training_44.jpg\n",
      "Skipping image: custom_facial_expression_dataset/train\\happy\\Training_62.jpg\n",
      "Skipping image: custom_facial_expression_dataset/train\\happy\\Training_68.jpg\n",
      "Skipping image: custom_facial_expression_dataset/train\\happy\\Training_78.jpg\n",
      "Skipping image: custom_facial_expression_dataset/train\\happy\\Training_79.jpg\n",
      "Skipping image: custom_facial_expression_dataset/train\\happy\\Training_80.jpg\n",
      "Skipping image: custom_facial_expression_dataset/train\\happy\\Training_81.jpg\n",
      "Skipping image: custom_facial_expression_dataset/train\\happy\\Training_82.jpg\n",
      "Skipping image: custom_facial_expression_dataset/train\\happy\\Training_83.jpg\n",
      "Skipping image: custom_facial_expression_dataset/train\\happy\\Training_86.jpg\n",
      "Skipping image: custom_facial_expression_dataset/train\\happy\\Training_87.jpg\n",
      "Skipping image: custom_facial_expression_dataset/train\\sad\\Training_1.jpg\n",
      "Skipping image: custom_facial_expression_dataset/train\\sad\\Training_101.jpg\n",
      "Skipping image: custom_facial_expression_dataset/train\\sad\\Training_113.jpg\n",
      "Skipping image: custom_facial_expression_dataset/train\\sad\\Training_116.jpg\n",
      "Skipping image: custom_facial_expression_dataset/train\\sad\\Training_12.jpg\n",
      "Skipping image: custom_facial_expression_dataset/train\\sad\\Training_138.jpg\n",
      "Skipping image: custom_facial_expression_dataset/train\\sad\\Training_14.jpg\n",
      "Skipping image: custom_facial_expression_dataset/train\\sad\\Training_150.jpg\n",
      "Skipping image: custom_facial_expression_dataset/train\\sad\\Training_151.jpg\n",
      "Skipping image: custom_facial_expression_dataset/train\\sad\\Training_152.jpg\n",
      "Skipping image: custom_facial_expression_dataset/train\\sad\\Training_153.jpg\n",
      "Skipping image: custom_facial_expression_dataset/train\\sad\\Training_155.jpg\n",
      "Skipping image: custom_facial_expression_dataset/train\\sad\\Training_156.jpg\n",
      "Skipping image: custom_facial_expression_dataset/train\\sad\\Training_158.jpg\n",
      "Skipping image: custom_facial_expression_dataset/train\\sad\\Training_159.jpg\n",
      "Skipping image: custom_facial_expression_dataset/train\\sad\\Training_16.jpg\n",
      "Skipping image: custom_facial_expression_dataset/train\\sad\\Training_160.jpg\n",
      "Skipping image: custom_facial_expression_dataset/train\\sad\\Training_165.jpg\n",
      "Skipping image: custom_facial_expression_dataset/train\\sad\\Training_167.jpg\n",
      "Skipping image: custom_facial_expression_dataset/train\\sad\\Training_169.jpg\n",
      "Skipping image: custom_facial_expression_dataset/train\\sad\\Training_170.jpg\n",
      "Skipping image: custom_facial_expression_dataset/train\\sad\\Training_171.jpg\n",
      "Skipping image: custom_facial_expression_dataset/train\\sad\\Training_174.jpg\n",
      "Skipping image: custom_facial_expression_dataset/train\\sad\\Training_175.jpg\n",
      "Skipping image: custom_facial_expression_dataset/train\\sad\\Training_177.jpg\n",
      "Skipping image: custom_facial_expression_dataset/train\\sad\\Training_178.jpg\n",
      "Skipping image: custom_facial_expression_dataset/train\\sad\\Training_179.jpg\n",
      "Skipping image: custom_facial_expression_dataset/train\\sad\\Training_180.jpg\n",
      "Skipping image: custom_facial_expression_dataset/train\\sad\\Training_182.jpg\n",
      "Skipping image: custom_facial_expression_dataset/train\\sad\\Training_184.jpg\n",
      "Skipping image: custom_facial_expression_dataset/train\\sad\\Training_185.jpg\n",
      "Skipping image: custom_facial_expression_dataset/train\\sad\\Training_186.jpg\n",
      "Skipping image: custom_facial_expression_dataset/train\\sad\\Training_191.jpg\n",
      "Skipping image: custom_facial_expression_dataset/train\\sad\\Training_193.jpg\n",
      "Skipping image: custom_facial_expression_dataset/train\\sad\\Training_21.jpg\n",
      "Skipping image: custom_facial_expression_dataset/train\\sad\\Training_22.jpg\n",
      "Skipping image: custom_facial_expression_dataset/train\\sad\\Training_31.jpg\n",
      "Skipping image: custom_facial_expression_dataset/train\\sad\\Training_33.jpg\n",
      "Skipping image: custom_facial_expression_dataset/train\\sad\\Training_38.jpg\n",
      "Skipping image: custom_facial_expression_dataset/train\\sad\\Training_45.jpg\n",
      "Skipping image: custom_facial_expression_dataset/train\\sad\\Training_51.jpg\n",
      "Skipping image: custom_facial_expression_dataset/train\\sad\\Training_58.jpg\n",
      "Skipping image: custom_facial_expression_dataset/train\\sad\\Training_63.jpg\n",
      "Skipping image: custom_facial_expression_dataset/train\\sad\\Training_7.jpg\n",
      "Skipping image: custom_facial_expression_dataset/train\\sad\\Training_8.jpg\n",
      "Skipping image: custom_facial_expression_dataset/train\\sad\\Training_82.jpg\n",
      "Skipping image: custom_facial_expression_dataset/train\\sad\\Training_83.jpg\n",
      "Skipping image: custom_facial_expression_dataset/train\\sad\\Training_85.jpg\n",
      "Skipping image: custom_facial_expression_dataset/train\\sad\\Training_86.jpg\n",
      "Skipping image: custom_facial_expression_dataset/train\\sad\\Training_87.jpg\n",
      "Skipping image: custom_facial_expression_dataset/train\\sad\\Training_9.jpg\n",
      "Skipping image: custom_facial_expression_dataset/train\\confused\\Training_10.jpg\n",
      "Skipping image: custom_facial_expression_dataset/train\\confused\\Training_101.jpg\n",
      "Skipping image: custom_facial_expression_dataset/train\\confused\\Training_102.jpg\n",
      "Skipping image: custom_facial_expression_dataset/train\\confused\\Training_11.jpg\n",
      "Skipping image: custom_facial_expression_dataset/train\\confused\\Training_113.jpg\n",
      "Skipping image: custom_facial_expression_dataset/train\\confused\\Training_116.jpg\n",
      "Skipping image: custom_facial_expression_dataset/train\\confused\\Training_118.jpg\n",
      "Skipping image: custom_facial_expression_dataset/train\\confused\\Training_122.jpg\n",
      "Skipping image: custom_facial_expression_dataset/train\\confused\\Training_123.jpg\n",
      "Skipping image: custom_facial_expression_dataset/train\\confused\\Training_126.jpg\n",
      "Skipping image: custom_facial_expression_dataset/train\\confused\\Training_128.jpg\n",
      "Skipping image: custom_facial_expression_dataset/train\\confused\\Training_129.jpg\n",
      "Skipping image: custom_facial_expression_dataset/train\\confused\\Training_130.jpg\n",
      "Skipping image: custom_facial_expression_dataset/train\\confused\\Training_131.jpg\n",
      "Skipping image: custom_facial_expression_dataset/train\\confused\\Training_132.jpg\n",
      "Skipping image: custom_facial_expression_dataset/train\\confused\\Training_133.jpg\n",
      "Skipping image: custom_facial_expression_dataset/train\\confused\\Training_136.jpg\n",
      "Skipping image: custom_facial_expression_dataset/train\\confused\\Training_137.jpg\n",
      "Skipping image: custom_facial_expression_dataset/train\\confused\\Training_138.jpg\n",
      "Skipping image: custom_facial_expression_dataset/train\\confused\\Training_139.jpg\n",
      "Skipping image: custom_facial_expression_dataset/train\\confused\\Training_140.jpg\n",
      "Skipping image: custom_facial_expression_dataset/train\\confused\\Training_141.jpg\n",
      "Skipping image: custom_facial_expression_dataset/train\\confused\\Training_142.jpg\n",
      "Skipping image: custom_facial_expression_dataset/train\\confused\\Training_144.jpg\n",
      "Skipping image: custom_facial_expression_dataset/train\\confused\\Training_145.jpg\n",
      "Skipping image: custom_facial_expression_dataset/train\\confused\\Training_15.jpg\n",
      "Skipping image: custom_facial_expression_dataset/train\\confused\\Training_154.jpg\n",
      "Skipping image: custom_facial_expression_dataset/train\\confused\\Training_158.jpg\n",
      "Skipping image: custom_facial_expression_dataset/train\\confused\\Training_159.jpg\n",
      "Skipping image: custom_facial_expression_dataset/train\\confused\\Training_16.jpg\n",
      "Skipping image: custom_facial_expression_dataset/train\\confused\\Training_161.jpg\n",
      "Skipping image: custom_facial_expression_dataset/train\\confused\\Training_162.jpg\n",
      "Skipping image: custom_facial_expression_dataset/train\\confused\\Training_163.jpg\n",
      "Skipping image: custom_facial_expression_dataset/train\\confused\\Training_164.jpg\n",
      "Skipping image: custom_facial_expression_dataset/train\\confused\\Training_165.jpg\n",
      "Skipping image: custom_facial_expression_dataset/train\\confused\\Training_166.jpg\n",
      "Skipping image: custom_facial_expression_dataset/train\\confused\\Training_167.jpg\n",
      "Skipping image: custom_facial_expression_dataset/train\\confused\\Training_168.jpg\n",
      "Skipping image: custom_facial_expression_dataset/train\\confused\\Training_169.jpg\n",
      "Skipping image: custom_facial_expression_dataset/train\\confused\\Training_170.jpg\n",
      "Skipping image: custom_facial_expression_dataset/train\\confused\\Training_172.jpg\n",
      "Skipping image: custom_facial_expression_dataset/train\\confused\\Training_175.jpg\n",
      "Skipping image: custom_facial_expression_dataset/train\\confused\\Training_176.jpg\n",
      "Skipping image: custom_facial_expression_dataset/train\\confused\\Training_177.jpg\n",
      "Skipping image: custom_facial_expression_dataset/train\\confused\\Training_178.jpg\n",
      "Skipping image: custom_facial_expression_dataset/train\\confused\\Training_182.jpg\n",
      "Skipping image: custom_facial_expression_dataset/train\\confused\\Training_183.jpg\n",
      "Skipping image: custom_facial_expression_dataset/train\\confused\\Training_184.jpg\n",
      "Skipping image: custom_facial_expression_dataset/train\\confused\\Training_188.jpg\n",
      "Skipping image: custom_facial_expression_dataset/train\\confused\\Training_189.jpg\n",
      "Skipping image: custom_facial_expression_dataset/train\\confused\\Training_191.jpg\n",
      "Skipping image: custom_facial_expression_dataset/train\\confused\\Training_192.jpg\n",
      "Skipping image: custom_facial_expression_dataset/train\\confused\\Training_193.jpg\n",
      "Skipping image: custom_facial_expression_dataset/train\\confused\\Training_194.jpg\n",
      "Skipping image: custom_facial_expression_dataset/train\\confused\\Training_195.jpg\n",
      "Skipping image: custom_facial_expression_dataset/train\\confused\\Training_196.jpg\n",
      "Skipping image: custom_facial_expression_dataset/train\\confused\\Training_198.jpg\n",
      "Skipping image: custom_facial_expression_dataset/train\\confused\\Training_199.jpg\n",
      "Skipping image: custom_facial_expression_dataset/train\\confused\\Training_20.jpg\n",
      "Skipping image: custom_facial_expression_dataset/train\\confused\\Training_200.jpg\n",
      "Skipping image: custom_facial_expression_dataset/train\\confused\\Training_22.jpg\n",
      "Skipping image: custom_facial_expression_dataset/train\\confused\\Training_23.jpg\n",
      "Skipping image: custom_facial_expression_dataset/train\\confused\\Training_25.jpg\n",
      "Skipping image: custom_facial_expression_dataset/train\\confused\\Training_27.jpg\n",
      "Skipping image: custom_facial_expression_dataset/train\\confused\\Training_28.jpg\n",
      "Skipping image: custom_facial_expression_dataset/train\\confused\\Training_29.jpg\n",
      "Skipping image: custom_facial_expression_dataset/train\\confused\\Training_3.jpg\n",
      "Skipping image: custom_facial_expression_dataset/train\\confused\\Training_30.jpg\n",
      "Skipping image: custom_facial_expression_dataset/train\\confused\\Training_34.jpg\n",
      "Skipping image: custom_facial_expression_dataset/train\\confused\\Training_36.jpg\n",
      "Skipping image: custom_facial_expression_dataset/train\\confused\\Training_37.jpg\n",
      "Skipping image: custom_facial_expression_dataset/train\\confused\\Training_38.jpg\n",
      "Skipping image: custom_facial_expression_dataset/train\\confused\\Training_41.jpg\n",
      "Skipping image: custom_facial_expression_dataset/train\\confused\\Training_42.jpg\n",
      "Skipping image: custom_facial_expression_dataset/train\\confused\\Training_43.jpg\n",
      "Skipping image: custom_facial_expression_dataset/train\\confused\\Training_46.jpg\n",
      "Skipping image: custom_facial_expression_dataset/train\\confused\\Training_47.jpg\n",
      "Skipping image: custom_facial_expression_dataset/train\\confused\\Training_49.jpg\n",
      "Skipping image: custom_facial_expression_dataset/train\\confused\\Training_5.jpg\n",
      "Skipping image: custom_facial_expression_dataset/train\\confused\\Training_50.jpg\n",
      "Skipping image: custom_facial_expression_dataset/train\\confused\\Training_53.jpg\n",
      "Skipping image: custom_facial_expression_dataset/train\\confused\\Training_54.jpg\n",
      "Skipping image: custom_facial_expression_dataset/train\\confused\\Training_55.jpg\n",
      "Skipping image: custom_facial_expression_dataset/train\\confused\\Training_56.jpg\n",
      "Skipping image: custom_facial_expression_dataset/train\\confused\\Training_58.jpg\n",
      "Skipping image: custom_facial_expression_dataset/train\\confused\\Training_59.jpg\n",
      "Skipping image: custom_facial_expression_dataset/train\\confused\\Training_6.jpg\n",
      "Skipping image: custom_facial_expression_dataset/train\\confused\\Training_64.jpg\n",
      "Skipping image: custom_facial_expression_dataset/train\\confused\\Training_67.jpg\n",
      "Skipping image: custom_facial_expression_dataset/train\\confused\\Training_68.jpg\n",
      "Skipping image: custom_facial_expression_dataset/train\\confused\\Training_69.jpg\n",
      "Skipping image: custom_facial_expression_dataset/train\\confused\\Training_8.jpg\n",
      "Skipping image: custom_facial_expression_dataset/train\\confused\\Training_81.jpg\n",
      "Skipping image: custom_facial_expression_dataset/train\\confused\\Training_82.jpg\n",
      "Skipping image: custom_facial_expression_dataset/train\\confused\\Training_90.jpg\n",
      "Skipping image: custom_facial_expression_dataset/train\\confused\\Training_91.jpg\n",
      "Skipping image: custom_facial_expression_dataset/train\\confused\\Training_92.jpg\n",
      "Skipping image: custom_facial_expression_dataset/train\\confused\\Training_93.jpg\n",
      "Skipping image: custom_facial_expression_dataset/others\\20230604_010504.jpg\n",
      "Saved!\n"
     ]
    }
   ],
   "source": [
    "dataset_path = \"custom_facial_expression_dataset/train\"\n",
    "my_face_folders = [\"angry\", \"happy\", \"sad\", \"confused\"]\n",
    "others_folder = \"custom_facial_expression_dataset/others\"\n",
    "\n",
    "embeddings = []\n",
    "labels = []\n",
    "\n",
    "# Process my_face_folders images\n",
    "for folder in my_face_folders:\n",
    "  folder_path = os.path.join(dataset_path, folder)\n",
    "  for img_name in os.listdir(folder_path):\n",
    "    img_path = os.path.join(folder_path, img_name)\n",
    "    try:\n",
    "      embedding = DeepFace.represent(img_path, model_name=\"Facenet\")[0][\"embedding\"]\n",
    "      embeddings.append(embedding)\n",
    "      labels.append(1)\n",
    "    except:\n",
    "      print(f\"Skipping image: {img_path}\")\n",
    "\n",
    "# Process others images\n",
    "for img_name in os.listdir(others_folder):\n",
    "  img_path = os.path.join(others_folder, img_name)\n",
    "  try:\n",
    "    embedding = DeepFace.represent(img_path, model_name=\"Facenet\")[0][\"embedding\"]\n",
    "    embeddings.append(embedding)\n",
    "    labels.append(0)\n",
    "  except:\n",
    "    print(f\"Skipping image: {img_path}\")\n",
    "\n",
    "embeddings = np.array(embeddings)\n",
    "labels = np.array(labels)\n",
    "\n",
    "with open(\"pkl/face_embeddings.pkl\", \"wb\") as f:\n",
    "  pickle.dump((embeddings, labels), f)\n",
    "print(\"Saved!\")"
   ]
  },
  {
   "cell_type": "code",
   "execution_count": null,
   "id": "1f8fa7d1",
   "metadata": {},
   "outputs": [
    {
     "name": "stdout",
     "output_type": "stream",
     "text": [
      "Face Recognition Accuracy: 98.14%\n",
      "Saved!\n"
     ]
    }
   ],
   "source": [
    "X_train, X_test, y_train, y_test = train_test_split(embeddings, labels, test_size=0.2, random_state=42)\n",
    "\n",
    "svm_model = SVC(kernel='linear', probability=True)\n",
    "svm_model.fit(X_train, y_train)\n",
    "\n",
    "y_pred = svm_model.predict(X_test)\n",
    "accuracy = accuracy_score(y_test, y_pred)\n",
    "print(f\"Face Recognition Accuracy: {accuracy * 100:.2f}%\")\n",
    "\n",
    "with open(\"pkl/face_recognition_model.pkl\", \"wb\") as f:\n",
    "  pickle.dump(svm_model, f)\n",
    "print(\"Saved!\")"
   ]
  },
  {
   "cell_type": "markdown",
   "id": "cd7f4c4f",
   "metadata": {},
   "source": [
    "## Mood Detection"
   ]
  },
  {
   "cell_type": "markdown",
   "id": "dd55d28c",
   "metadata": {},
   "source": [
    "### Load Dataset"
   ]
  },
  {
   "cell_type": "code",
   "execution_count": 8,
   "id": "4c98a4df",
   "metadata": {},
   "outputs": [],
   "source": [
    "TRAIN_DIR = ('custom_facial_expression_dataset/train/')\n",
    "TEST_DIR = ('custom_facial_expression_dataset/test/')\n",
    "VAL_DIR = ('custom_facial_expression_dataset/validation/')"
   ]
  },
  {
   "cell_type": "code",
   "execution_count": 9,
   "id": "59dc208c",
   "metadata": {},
   "outputs": [],
   "source": [
    "def load_data(dir_path, IMG_SIZE):\n",
    "   \n",
    "    X = []\n",
    "    y = []\n",
    "    i = 0\n",
    "    labels = dict()\n",
    "    for path in tqdm(sorted(os.listdir(dir_path))):\n",
    "        if not path.startswith('.'):\n",
    "            labels[i] = path\n",
    "            for file in os.listdir(dir_path + path):\n",
    "                if not file.startswith('.'):\n",
    "                    img = cv2.imread(dir_path + path + '/' + file)\n",
    "                    img = img.astype('float32') / 255\n",
    "                    resized = cv2.resize(img, IMG_SIZE, interpolation = cv2.INTER_AREA)\n",
    "                    X.append(resized)\n",
    "                    y.append(i)\n",
    "            i += 1\n",
    "    X = np.array(X)\n",
    "    y = np.array(y)\n",
    "    print(f'{len(X)} images loaded from {dir_path} directory.')\n",
    "    return X, y, labels\n",
    "\n",
    "IMG_SIZE = 48"
   ]
  },
  {
   "cell_type": "code",
   "execution_count": 10,
   "id": "f8c97377",
   "metadata": {},
   "outputs": [
    {
     "name": "stderr",
     "output_type": "stream",
     "text": [
      "  0%|          | 0/4 [00:00<?, ?it/s]"
     ]
    },
    {
     "name": "stderr",
     "output_type": "stream",
     "text": [
      "100%|██████████| 4/4 [00:26<00:00,  6.72s/it]\n"
     ]
    },
    {
     "name": "stdout",
     "output_type": "stream",
     "text": [
      "800 images loaded from custom_facial_expression_dataset/train/ directory.\n"
     ]
    },
    {
     "name": "stderr",
     "output_type": "stream",
     "text": [
      "100%|██████████| 4/4 [00:03<00:00,  1.01it/s]\n"
     ]
    },
    {
     "name": "stdout",
     "output_type": "stream",
     "text": [
      "120 images loaded from custom_facial_expression_dataset/test/ directory.\n"
     ]
    },
    {
     "name": "stderr",
     "output_type": "stream",
     "text": [
      "100%|██████████| 4/4 [00:04<00:00,  1.08s/it]"
     ]
    },
    {
     "name": "stdout",
     "output_type": "stream",
     "text": [
      "120 images loaded from custom_facial_expression_dataset/validation/ directory.\n"
     ]
    },
    {
     "name": "stderr",
     "output_type": "stream",
     "text": [
      "\n"
     ]
    }
   ],
   "source": [
    "X_train, y_train, train_labels = load_data(TRAIN_DIR, (IMG_SIZE, IMG_SIZE))\n",
    "X_test, y_test, test_labels = load_data(TEST_DIR, (IMG_SIZE, IMG_SIZE))\n",
    "X_val, y_val, val_labels = load_data(VAL_DIR, (IMG_SIZE, IMG_SIZE))"
   ]
  },
  {
   "cell_type": "code",
   "execution_count": 11,
   "id": "1eaa6f0a",
   "metadata": {},
   "outputs": [
    {
     "data": {
      "text/plain": [
       "{0: 'angry', 1: 'confused', 2: 'happy', 3: 'sad'}"
      ]
     },
     "execution_count": 11,
     "metadata": {},
     "output_type": "execute_result"
    }
   ],
   "source": [
    "train_labels"
   ]
  },
  {
   "cell_type": "code",
   "execution_count": 12,
   "id": "21ba2434",
   "metadata": {},
   "outputs": [
    {
     "data": {
      "text/plain": [
       "{0: 'angry', 1: 'confused', 2: 'happy', 3: 'sad'}"
      ]
     },
     "execution_count": 12,
     "metadata": {},
     "output_type": "execute_result"
    }
   ],
   "source": [
    "test_labels"
   ]
  },
  {
   "cell_type": "code",
   "execution_count": 13,
   "id": "b3dc8f42",
   "metadata": {},
   "outputs": [
    {
     "data": {
      "text/plain": [
       "{0: 'angry', 1: 'confused', 2: 'happy', 3: 'sad'}"
      ]
     },
     "execution_count": 13,
     "metadata": {},
     "output_type": "execute_result"
    }
   ],
   "source": [
    "val_labels"
   ]
  },
  {
   "cell_type": "code",
   "execution_count": 14,
   "id": "c878883d",
   "metadata": {},
   "outputs": [
    {
     "data": {
      "text/plain": [
       "(800, 4)"
      ]
     },
     "execution_count": 14,
     "metadata": {},
     "output_type": "execute_result"
    }
   ],
   "source": [
    "from keras.utils.np_utils import to_categorical\n",
    "\n",
    "y_train = to_categorical(y_train, num_classes=4)\n",
    "y_train.shape"
   ]
  },
  {
   "cell_type": "code",
   "execution_count": 15,
   "id": "576960cf",
   "metadata": {},
   "outputs": [
    {
     "data": {
      "text/plain": [
       "(120, 4)"
      ]
     },
     "execution_count": 15,
     "metadata": {},
     "output_type": "execute_result"
    }
   ],
   "source": [
    "\n",
    "y_test = to_categorical(y_test, num_classes=4)\n",
    "y_test.shape"
   ]
  },
  {
   "cell_type": "code",
   "execution_count": 16,
   "id": "db96bb9c",
   "metadata": {},
   "outputs": [
    {
     "data": {
      "text/plain": [
       "(120, 4)"
      ]
     },
     "execution_count": 16,
     "metadata": {},
     "output_type": "execute_result"
    }
   ],
   "source": [
    "y_val = to_categorical(y_val, num_classes=4)\n",
    "y_val.shape"
   ]
  },
  {
   "cell_type": "markdown",
   "id": "eec0639a",
   "metadata": {},
   "source": [
    "### Creating Model"
   ]
  },
  {
   "cell_type": "code",
   "execution_count": 122,
   "id": "0dbbb384",
   "metadata": {},
   "outputs": [
    {
     "name": "stdout",
     "output_type": "stream",
     "text": [
      "Model: \"vgg16\"\n",
      "_________________________________________________________________\n",
      " Layer (type)                Output Shape              Param #   \n",
      "=================================================================\n",
      " input_13 (InputLayer)       [(None, 48, 48, 3)]       0         \n",
      "                                                                 \n",
      " block1_conv1 (Conv2D)       (None, 48, 48, 64)        1792      \n",
      "                                                                 \n",
      " block1_conv2 (Conv2D)       (None, 48, 48, 64)        36928     \n",
      "                                                                 \n",
      " block1_pool (MaxPooling2D)  (None, 24, 24, 64)        0         \n",
      "                                                                 \n",
      " block2_conv1 (Conv2D)       (None, 24, 24, 128)       73856     \n",
      "                                                                 \n",
      " block2_conv2 (Conv2D)       (None, 24, 24, 128)       147584    \n",
      "                                                                 \n",
      " block2_pool (MaxPooling2D)  (None, 12, 12, 128)       0         \n",
      "                                                                 \n",
      " block3_conv1 (Conv2D)       (None, 12, 12, 256)       295168    \n",
      "                                                                 \n",
      " block3_conv2 (Conv2D)       (None, 12, 12, 256)       590080    \n",
      "                                                                 \n",
      " block3_conv3 (Conv2D)       (None, 12, 12, 256)       590080    \n",
      "                                                                 \n",
      " block3_pool (MaxPooling2D)  (None, 6, 6, 256)         0         \n",
      "                                                                 \n",
      " block4_conv1 (Conv2D)       (None, 6, 6, 512)         1180160   \n",
      "                                                                 \n",
      " block4_conv2 (Conv2D)       (None, 6, 6, 512)         2359808   \n",
      "                                                                 \n",
      " block4_conv3 (Conv2D)       (None, 6, 6, 512)         2359808   \n",
      "                                                                 \n",
      " block4_pool (MaxPooling2D)  (None, 3, 3, 512)         0         \n",
      "                                                                 \n",
      " block5_conv1 (Conv2D)       (None, 3, 3, 512)         2359808   \n",
      "                                                                 \n",
      " block5_conv2 (Conv2D)       (None, 3, 3, 512)         2359808   \n",
      "                                                                 \n",
      " block5_conv3 (Conv2D)       (None, 3, 3, 512)         2359808   \n",
      "                                                                 \n",
      " block5_pool (MaxPooling2D)  (None, 1, 1, 512)         0         \n",
      "                                                                 \n",
      "=================================================================\n",
      "Total params: 14,714,688\n",
      "Trainable params: 7,079,424\n",
      "Non-trainable params: 7,635,264\n",
      "_________________________________________________________________\n"
     ]
    }
   ],
   "source": [
    "conv_base = VGG16(weights='imagenet',\n",
    "                  include_top=False,\n",
    "                  input_shape=(IMG_SIZE, IMG_SIZE, 3)\n",
    ")\n",
    "\n",
    "for layer in conv_base.layers[:15]:\n",
    "    layer.trainable = False\n",
    "\n",
    "for layer in conv_base.layers[15:]:\n",
    "    layer.trainable = True\n",
    "\n",
    "conv_base.summary()"
   ]
  },
  {
   "cell_type": "code",
   "execution_count": 123,
   "id": "53557ec2",
   "metadata": {},
   "outputs": [
    {
     "name": "stdout",
     "output_type": "stream",
     "text": [
      "Model: \"sequential_13\"\n",
      "_________________________________________________________________\n",
      " Layer (type)                Output Shape              Param #   \n",
      "=================================================================\n",
      " vgg16 (Functional)          (None, 1, 1, 512)         14714688  \n",
      "                                                                 \n",
      " flatten_13 (Flatten)        (None, 512)               0         \n",
      "                                                                 \n",
      " dense_26 (Dense)            (None, 512)               262656    \n",
      "                                                                 \n",
      " dropout_13 (Dropout)        (None, 512)               0         \n",
      "                                                                 \n",
      " dense_27 (Dense)            (None, 4)                 2052      \n",
      "                                                                 \n",
      "=================================================================\n",
      "Total params: 14,979,396\n",
      "Trainable params: 7,344,132\n",
      "Non-trainable params: 7,635,264\n",
      "_________________________________________________________________\n"
     ]
    }
   ],
   "source": [
    "model = Sequential([\n",
    "    conv_base,\n",
    "    Flatten(),\n",
    "    Dense(512, activation='relu'),\n",
    "    Dropout(0.4),\n",
    "    Dense(4, activation='softmax')\n",
    "])\n",
    "\n",
    "model.compile(\n",
    "    optimizer=Adam(learning_rate=1e-5),\n",
    "    loss='categorical_crossentropy',\n",
    "    metrics=['accuracy']\n",
    ")\n",
    "\n",
    "model.summary()"
   ]
  },
  {
   "cell_type": "markdown",
   "id": "0cb20d61",
   "metadata": {},
   "source": [
    "### Data Augmentation"
   ]
  },
  {
   "cell_type": "code",
   "execution_count": 124,
   "id": "efdae6e7",
   "metadata": {},
   "outputs": [],
   "source": [
    "datagen = ImageDataGenerator(\n",
    "    rotation_range=20,\n",
    "    width_shift_range=0.2,\n",
    "    height_shift_range=0.2,\n",
    "    shear_range=0.2,\n",
    "    zoom_range=0.2,\n",
    "    horizontal_flip=True,\n",
    "    fill_mode='nearest'\n",
    ")\n",
    "\n",
    "datagen.fit(X_train)"
   ]
  },
  {
   "cell_type": "markdown",
   "id": "0caa2b58",
   "metadata": {},
   "source": [
    "### Train Model"
   ]
  },
  {
   "cell_type": "code",
   "execution_count": 125,
   "id": "de8d17dc",
   "metadata": {},
   "outputs": [
    {
     "name": "stdout",
     "output_type": "stream",
     "text": [
      "Epoch 1/50\n",
      "13/13 [==============================] - 2s 126ms/step - loss: 1.4976 - accuracy: 0.2587 - val_loss: 1.3841 - val_accuracy: 0.2917\n",
      "Epoch 2/50\n",
      "13/13 [==============================] - 1s 51ms/step - loss: 1.4240 - accuracy: 0.2912 - val_loss: 1.3688 - val_accuracy: 0.3250\n",
      "Epoch 3/50\n",
      "13/13 [==============================] - 1s 52ms/step - loss: 1.3925 - accuracy: 0.3075 - val_loss: 1.3546 - val_accuracy: 0.3750\n",
      "Epoch 4/50\n",
      "13/13 [==============================] - 1s 52ms/step - loss: 1.3382 - accuracy: 0.3600 - val_loss: 1.3328 - val_accuracy: 0.4500\n",
      "Epoch 5/50\n",
      "13/13 [==============================] - 1s 50ms/step - loss: 1.3354 - accuracy: 0.3562 - val_loss: 1.3178 - val_accuracy: 0.4417\n",
      "Epoch 6/50\n",
      "13/13 [==============================] - 1s 52ms/step - loss: 1.2568 - accuracy: 0.4175 - val_loss: 1.2867 - val_accuracy: 0.4333\n",
      "Epoch 7/50\n",
      "13/13 [==============================] - 1s 54ms/step - loss: 1.2503 - accuracy: 0.4375 - val_loss: 1.2783 - val_accuracy: 0.4250\n",
      "Epoch 8/50\n",
      "13/13 [==============================] - 1s 57ms/step - loss: 1.2155 - accuracy: 0.4650 - val_loss: 1.2501 - val_accuracy: 0.5167\n",
      "Epoch 9/50\n",
      "13/13 [==============================] - 1s 54ms/step - loss: 1.1864 - accuracy: 0.4762 - val_loss: 1.2138 - val_accuracy: 0.4917\n",
      "Epoch 10/50\n",
      "13/13 [==============================] - 1s 62ms/step - loss: 1.1407 - accuracy: 0.5125 - val_loss: 1.2030 - val_accuracy: 0.4583\n",
      "Epoch 11/50\n",
      "13/13 [==============================] - 1s 54ms/step - loss: 1.1337 - accuracy: 0.5125 - val_loss: 1.1679 - val_accuracy: 0.5417\n",
      "Epoch 12/50\n",
      "13/13 [==============================] - 1s 52ms/step - loss: 1.0737 - accuracy: 0.5387 - val_loss: 1.1639 - val_accuracy: 0.4667\n",
      "Epoch 13/50\n",
      "13/13 [==============================] - 1s 64ms/step - loss: 1.0606 - accuracy: 0.5425 - val_loss: 1.1435 - val_accuracy: 0.4917\n",
      "Epoch 14/50\n",
      "13/13 [==============================] - 1s 57ms/step - loss: 1.0351 - accuracy: 0.5500 - val_loss: 1.1662 - val_accuracy: 0.4583\n",
      "Epoch 15/50\n",
      "13/13 [==============================] - 1s 56ms/step - loss: 0.9881 - accuracy: 0.5888 - val_loss: 1.1383 - val_accuracy: 0.4417\n",
      "Epoch 16/50\n",
      "13/13 [==============================] - 1s 52ms/step - loss: 0.9582 - accuracy: 0.6175 - val_loss: 1.0923 - val_accuracy: 0.5083\n",
      "Epoch 17/50\n",
      "13/13 [==============================] - 1s 53ms/step - loss: 0.9173 - accuracy: 0.6313 - val_loss: 1.0813 - val_accuracy: 0.5000\n",
      "Epoch 18/50\n",
      "13/13 [==============================] - 1s 53ms/step - loss: 0.9329 - accuracy: 0.6212 - val_loss: 1.0313 - val_accuracy: 0.6083\n",
      "Epoch 19/50\n",
      "13/13 [==============================] - 1s 54ms/step - loss: 0.9042 - accuracy: 0.6250 - val_loss: 1.0471 - val_accuracy: 0.5750\n",
      "Epoch 20/50\n",
      "13/13 [==============================] - 1s 52ms/step - loss: 0.8628 - accuracy: 0.6513 - val_loss: 1.0306 - val_accuracy: 0.6000\n",
      "Epoch 21/50\n",
      "13/13 [==============================] - 1s 53ms/step - loss: 0.8555 - accuracy: 0.6612 - val_loss: 1.0903 - val_accuracy: 0.5000\n",
      "Epoch 22/50\n",
      "13/13 [==============================] - 1s 54ms/step - loss: 0.8373 - accuracy: 0.6525 - val_loss: 1.0456 - val_accuracy: 0.5667\n",
      "Epoch 23/50\n",
      "13/13 [==============================] - 1s 53ms/step - loss: 0.8597 - accuracy: 0.6587 - val_loss: 1.0393 - val_accuracy: 0.5750\n",
      "Epoch 24/50\n",
      "13/13 [==============================] - 1s 53ms/step - loss: 0.8386 - accuracy: 0.6575 - val_loss: 0.9881 - val_accuracy: 0.5750\n",
      "Epoch 25/50\n",
      "13/13 [==============================] - 1s 53ms/step - loss: 0.7686 - accuracy: 0.7013 - val_loss: 1.0058 - val_accuracy: 0.5750\n",
      "Epoch 26/50\n",
      "13/13 [==============================] - 1s 54ms/step - loss: 0.7505 - accuracy: 0.6938 - val_loss: 1.0124 - val_accuracy: 0.6000\n",
      "Epoch 27/50\n",
      "13/13 [==============================] - 1s 57ms/step - loss: 0.7819 - accuracy: 0.6825 - val_loss: 1.0670 - val_accuracy: 0.5333\n",
      "Epoch 28/50\n",
      "13/13 [==============================] - 1s 53ms/step - loss: 0.7665 - accuracy: 0.6837 - val_loss: 1.0938 - val_accuracy: 0.4917\n",
      "Epoch 29/50\n",
      "13/13 [==============================] - 1s 54ms/step - loss: 0.7408 - accuracy: 0.6975 - val_loss: 0.9218 - val_accuracy: 0.6500\n",
      "Epoch 30/50\n",
      "13/13 [==============================] - 1s 52ms/step - loss: 0.7352 - accuracy: 0.7175 - val_loss: 0.9751 - val_accuracy: 0.6083\n",
      "Epoch 31/50\n",
      "13/13 [==============================] - 1s 51ms/step - loss: 0.7218 - accuracy: 0.7100 - val_loss: 0.9992 - val_accuracy: 0.6083\n",
      "Epoch 32/50\n",
      "13/13 [==============================] - 1s 53ms/step - loss: 0.6734 - accuracy: 0.7262 - val_loss: 0.9584 - val_accuracy: 0.6167\n",
      "Epoch 33/50\n",
      "13/13 [==============================] - 1s 54ms/step - loss: 0.6830 - accuracy: 0.7287 - val_loss: 1.0450 - val_accuracy: 0.5667\n",
      "Epoch 34/50\n",
      "13/13 [==============================] - 1s 54ms/step - loss: 0.6708 - accuracy: 0.7287 - val_loss: 0.9440 - val_accuracy: 0.5917\n",
      "Epoch 35/50\n",
      "13/13 [==============================] - 1s 51ms/step - loss: 0.6259 - accuracy: 0.7738 - val_loss: 0.9291 - val_accuracy: 0.6167\n",
      "Epoch 36/50\n",
      "13/13 [==============================] - 1s 54ms/step - loss: 0.6225 - accuracy: 0.7412 - val_loss: 1.0581 - val_accuracy: 0.6333\n",
      "Epoch 37/50\n",
      "13/13 [==============================] - 1s 54ms/step - loss: 0.6341 - accuracy: 0.7437 - val_loss: 0.9643 - val_accuracy: 0.6500\n",
      "Epoch 38/50\n",
      "13/13 [==============================] - 1s 52ms/step - loss: 0.6018 - accuracy: 0.7725 - val_loss: 0.9027 - val_accuracy: 0.6750\n",
      "Epoch 39/50\n",
      "13/13 [==============================] - 1s 52ms/step - loss: 0.5724 - accuracy: 0.7663 - val_loss: 0.9509 - val_accuracy: 0.6583\n",
      "Epoch 40/50\n",
      "13/13 [==============================] - 1s 52ms/step - loss: 0.5979 - accuracy: 0.7763 - val_loss: 1.0357 - val_accuracy: 0.6167\n",
      "Epoch 41/50\n",
      "13/13 [==============================] - 1s 54ms/step - loss: 0.5895 - accuracy: 0.7775 - val_loss: 0.9343 - val_accuracy: 0.6667\n",
      "Epoch 42/50\n",
      "13/13 [==============================] - 1s 54ms/step - loss: 0.5793 - accuracy: 0.7788 - val_loss: 0.9821 - val_accuracy: 0.5833\n",
      "Epoch 43/50\n",
      "13/13 [==============================] - 1s 53ms/step - loss: 0.5775 - accuracy: 0.7763 - val_loss: 0.9667 - val_accuracy: 0.6250\n",
      "Epoch 44/50\n",
      "13/13 [==============================] - 1s 51ms/step - loss: 0.5998 - accuracy: 0.7675 - val_loss: 0.9110 - val_accuracy: 0.7083\n",
      "Epoch 45/50\n",
      "13/13 [==============================] - 1s 52ms/step - loss: 0.5500 - accuracy: 0.7812 - val_loss: 0.9139 - val_accuracy: 0.6750\n",
      "Epoch 46/50\n",
      "13/13 [==============================] - 1s 52ms/step - loss: 0.5622 - accuracy: 0.7775 - val_loss: 0.8670 - val_accuracy: 0.6667\n",
      "Epoch 47/50\n",
      "13/13 [==============================] - 1s 53ms/step - loss: 0.5550 - accuracy: 0.7700 - val_loss: 0.9434 - val_accuracy: 0.6667\n",
      "Epoch 48/50\n",
      "13/13 [==============================] - 1s 55ms/step - loss: 0.5509 - accuracy: 0.7887 - val_loss: 0.9269 - val_accuracy: 0.7083\n",
      "Epoch 49/50\n",
      "13/13 [==============================] - 1s 53ms/step - loss: 0.5649 - accuracy: 0.7775 - val_loss: 0.9939 - val_accuracy: 0.5750\n",
      "Epoch 50/50\n",
      "13/13 [==============================] - 1s 52ms/step - loss: 0.5454 - accuracy: 0.7788 - val_loss: 0.8716 - val_accuracy: 0.7000\n"
     ]
    }
   ],
   "source": [
    "EPOCHS = 50\n",
    "BATCH_SIZE = 64\n",
    "\n",
    "history = model.fit(\n",
    "    datagen.flow(X_train, y_train, batch_size=BATCH_SIZE),\n",
    "    validation_data = (X_val, y_val),\n",
    "    epochs=EPOCHS,\n",
    "    batch_size=BATCH_SIZE,\n",
    "    verbose=1\n",
    ")"
   ]
  },
  {
   "cell_type": "markdown",
   "id": "60cb3cd2",
   "metadata": {},
   "source": [
    "## Evaluation and Testing"
   ]
  },
  {
   "cell_type": "code",
   "execution_count": 128,
   "id": "94b0ae12",
   "metadata": {},
   "outputs": [],
   "source": [
    "model.save('model/new_dataset/new_dataset_mood_classification_vgg16_5.h5')"
   ]
  },
  {
   "cell_type": "code",
   "execution_count": null,
   "id": "91ea82c9",
   "metadata": {},
   "outputs": [],
   "source": [
    "# Save the history to compare with other model\n",
    "# with open(\"pkl/new_dataset/new_dataset_mood_classification_vgg16_5.pkl\", \"wb\") as f:\n",
    "#     pickle.dump(history.history, f)"
   ]
  },
  {
   "cell_type": "code",
   "execution_count": 3,
   "id": "67658061",
   "metadata": {},
   "outputs": [],
   "source": [
    "model = load_model('model/new_dataset/new_dataset_mood_classification_vgg16_5.h5')"
   ]
  },
  {
   "cell_type": "code",
   "execution_count": 4,
   "id": "e03e3cc9",
   "metadata": {},
   "outputs": [],
   "source": [
    "# Load the history\n",
    "with open(\"pkl/new_dataset/new_dataset_mood_classification_vgg16_5.pkl\", \"rb\") as f:\n",
    "    history = pickle.load(f)"
   ]
  },
  {
   "cell_type": "code",
   "execution_count": 5,
   "id": "975c6040",
   "metadata": {},
   "outputs": [
    {
     "data": {
      "image/png": "[encoded data removed]",
      "text/plain": [
       "<Figure size 640x480 with 1 Axes>"
      ]
     },
     "metadata": {},
     "output_type": "display_data"
    },
    {
     "data": {
      "image/png": "[encoded data removed]",
      "text/plain": [
       "<Figure size 640x480 with 1 Axes>"
      ]
     },
     "metadata": {},
     "output_type": "display_data"
    }
   ],
   "source": [
    "acc = history['accuracy']\n",
    "val_acc = history['val_accuracy']\n",
    "loss = history['loss']\n",
    "val_loss = history['val_loss']\n",
    "\n",
    "epochs = range(len(acc))\n",
    "\n",
    "plt.plot(epochs, acc, 'bo', label='Training acc')\n",
    "plt.plot(epochs, val_acc, 'b', label='Validation acc')\n",
    "plt.title('Training and validation accuracy')\n",
    "plt.legend()\n",
    "\n",
    "plt.figure()\n",
    "plt.plot(epochs, loss, 'bo', label='Training loss')\n",
    "plt.plot(epochs, val_loss, 'b', label='Validation loss')\n",
    "plt.title('Training and validation loss')\n",
    "plt.legend()\n",
    "\n",
    "plt.show()"
   ]
  },
  {
   "cell_type": "code",
   "execution_count": 6,
   "id": "0e370688",
   "metadata": {},
   "outputs": [],
   "source": [
    "def plot_confusion_matrix(cm, classes,\n",
    "                          normalize=False,\n",
    "                          title='Confusion matrix',\n",
    "                          cmap=plt.cm.Blues):\n",
    "    \n",
    "    plt.figure(figsize = (6,6))\n",
    "    plt.imshow(cm, interpolation='nearest', cmap=cmap)\n",
    "    plt.title(title)\n",
    "    plt.colorbar()\n",
    "    tick_marks = np.arange(len(classes))\n",
    "    plt.xticks(tick_marks, classes, rotation=90)\n",
    "    plt.yticks(tick_marks, classes)\n",
    "    if normalize:\n",
    "        cm = cm.astype('float') / cm.sum(axis=1)[:, np.newaxis]\n",
    "\n",
    "    thresh = cm.max() / 2.\n",
    "    cm = np.round(cm,2)\n",
    "    for i, j in itertools.product(range(cm.shape[0]), range(cm.shape[1])):\n",
    "        plt.text(j, i, cm[i, j],\n",
    "                 horizontalalignment=\"center\",\n",
    "                 color=\"white\" if cm[i, j] > thresh else \"black\")\n",
    "    plt.tight_layout()\n",
    "    plt.ylabel('True label')\n",
    "    plt.xlabel('Predicted label')\n",
    "    plt.show()"
   ]
  },
  {
   "cell_type": "code",
   "execution_count": 17,
   "id": "7b03d399",
   "metadata": {},
   "outputs": [
    {
     "name": "stdout",
     "output_type": "stream",
     "text": [
      "4/4 [==============================] - 40s 2s/step\n",
      "Test Accuracy = 0.59\n"
     ]
    },
    {
     "data": {
      "image/png": "[encoded data removed]",
      "text/plain": [
       "<Figure size 600x600 with 2 Axes>"
      ]
     },
     "metadata": {},
     "output_type": "display_data"
    }
   ],
   "source": [
    "predictions = model.predict(X_test)\n",
    "y_pred = [np.argmax(probas) for probas in predictions]\n",
    "\n",
    "y_test_class_indices = np.argmax(y_test, axis=1)\n",
    "accuracy = accuracy_score(y_test_class_indices, y_pred)\n",
    "print('Test Accuracy = %.2f' % accuracy)\n",
    "\n",
    "confusion_mtx = confusion_matrix(y_test_class_indices, y_pred) \n",
    "cm = plot_confusion_matrix(confusion_mtx, classes = list(test_labels.items()), normalize=False)"
   ]
  },
  {
   "cell_type": "code",
   "execution_count": null,
   "id": "6a339cab",
   "metadata": {},
   "outputs": [],
   "source": [
    "with open(\"pkl/face_recognition_model.pkl\", \"rb\") as f:\n",
    "    face_recognizer = pickle.load(f)\n",
    "with open(\"pkl/face_embeddings.pkl\", \"rb\") as f:\n",
    "    embeddings_data = pickle.load(f)\n",
    "embeddings, labels = embeddings_data\n",
    "\n",
    "mood_model = load_model(\"model/mood_classification_vgg16.h5\")\n",
    "\n",
    "face_cascade = cv2.CascadeClassifier(cv2.data.haarcascades + \"haarcascade_frontalface_default.xml\")\n",
    "\n",
    "emotion_labels = [\"angry\", \"happy\", \"sad\", \"confused\"]\n",
    "\n",
    "webcam_capture = cv2.VideoCapture(0)\n",
    "\n",
    "while True:\n",
    "    ret, frame = webcam_capture.read()\n",
    "    if not ret:\n",
    "        break\n",
    "    gray = cv2.cvtColor(frame, cv2.COLOR_BGR2GRAY)\n",
    "    faces = face_cascade.detectMultiScale(gray, 1.3, 5)\n",
    "\n",
    "    for (x, y, w, h) in faces:\n",
    "        face = frame[y: y+h, x: x+w]\n",
    "\n",
    "        label_text = \"Unknown\"\n",
    "\n",
    "        try:\n",
    "            embedding = DeepFace.represent(face, model_name=\"Facenet\", enforce_detection=False)[0][\"embedding\"]\n",
    "            probs = face_recognizer.predict_proba([embedding])[0]\n",
    "            pred_label = face_recognizer.predict([embedding])[0]\n",
    "            face_conf = probs[1] if pred_label == 1 else probs[0]\n",
    "        \n",
    "            if pred_label == 1:\n",
    "                try:\n",
    "                    face_resized = cv2.resize(face, (48, 48))\n",
    "                    face_array = img_to_array(face_resized) / 255.0\n",
    "                    face_array = np.expand_dims(face_array, axis=0)\n",
    "\n",
    "                    prediction = mood_model.predict(face_array, verbose=0)[0]\n",
    "                    emotion = emotion_labels[np.argmax(prediction)]\n",
    "                    emotion_conf = np.max(prediction)\n",
    "\n",
    "                    label_text = f\"{emotion} ({emotion_conf*100:.1f}%)\"\n",
    "                except:\n",
    "                    label_text = \"(Error)\"\n",
    "            \n",
    "            else:\n",
    "                label_text = f\"Unknown ({face_conf*100:.1f}%)\"\n",
    "        \n",
    "        except:\n",
    "            label_text = \"Recognition Error\"\n",
    "            \n",
    "        cv2.rectangle(frame, (x, y), (x+w, y+h), (0, 255, 0), 2)\n",
    "        cv2.putText(frame, label_text, (x, y-10),\n",
    "                    cv2.FONT_HERSHEY_SIMPLEX, 0.8, (0, 255, 0), 2)\n",
    "    \n",
    "    cv2.imshow(\"Face Recognition & Mood Detection\", frame)\n",
    "\n",
    "    if cv2.waitKey(1) & 0xFF == ord('q'):\n",
    "        break\n",
    "\n",
    "webcam_capture.release()\n",
    "cv2.destroyAllWindows()"
   ]
  }
 ],
 "metadata": {
  "kernelspec": {
   "display_name": "base",
   "language": "python",
   "name": "python3"
  },
  "language_info": {
   "codemirror_mode": {
    "name": "ipython",
    "version": 3
   },
   "file_extension": ".py",
   "mimetype": "text/x-python",
   "name": "python",
   "nbconvert_exporter": "python",
   "pygments_lexer": "ipython3",
   "version": "3.9.13"
  }
 },
 "nbformat": 4,
 "nbformat_minor": 5
}
